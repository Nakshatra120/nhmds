{
 "cells": [
  {
   "cell_type": "code",
   "execution_count": 3,
   "metadata": {},
   "outputs": [
    {
     "name": "stderr",
     "output_type": "stream",
     "text": [
      "WARNING:absl:At this time, the v2.11+ optimizer `tf.keras.optimizers.Adam` runs slowly on M1/M2 Macs, please use the legacy Keras optimizer instead, located at `tf.keras.optimizers.legacy.Adam`.\n"
     ]
    },
    {
     "ename": "AttributeError",
     "evalue": "'nonmetricHMDS' object has no attribute 'plot_transformation'",
     "output_type": "error",
     "traceback": [
      "\u001b[0;31m---------------------------------------------------------------------------\u001b[0m",
      "\u001b[0;31mAttributeError\u001b[0m                            Traceback (most recent call last)",
      "Cell \u001b[0;32mIn[3], line 23\u001b[0m\n\u001b[1;32m     21\u001b[0m \u001b[38;5;66;03m# ▸ cell 3 – pick & train a model\u001b[39;00m\n\u001b[1;32m     22\u001b[0m model \u001b[38;5;241m=\u001b[39m nonmetricHMDS(deltaij\u001b[38;5;241m=\u001b[39mdmat_noisy, D\u001b[38;5;241m=\u001b[39m\u001b[38;5;241m3\u001b[39m, Ns\u001b[38;5;241m=\u001b[39m\u001b[38;5;241m8\u001b[39m)\n\u001b[0;32m---> 23\u001b[0m \u001b[43mmodel\u001b[49m\u001b[38;5;241;43m.\u001b[39;49m\u001b[43mtrain\u001b[49m\u001b[43m(\u001b[49m\u001b[43mn\u001b[49m\u001b[38;5;241;43m=\u001b[39;49m\u001b[38;5;241;43m30_000\u001b[39;49m\u001b[43m)\u001b[49m\n\u001b[1;32m     25\u001b[0m \u001b[38;5;66;03m# ▸ cell 4 – quick diagnostics\u001b[39;00m\n\u001b[1;32m     26\u001b[0m plot_loss(model)\n",
      "File \u001b[0;32m~/Desktop/nhmds/core_hmds.py:250\u001b[0m, in \u001b[0;36mnonmetricHMDS.train\u001b[0;34m(self, n)\u001b[0m\n\u001b[1;32m    249\u001b[0m \u001b[38;5;28;01mdef\u001b[39;00m\u001b[38;5;250m \u001b[39m\u001b[38;5;21mtrain\u001b[39m(\u001b[38;5;28mself\u001b[39m, n\u001b[38;5;241m=\u001b[39m\u001b[38;5;241m50000\u001b[39m):\n\u001b[0;32m--> 250\u001b[0m     \u001b[38;5;28;43mself\u001b[39;49m\u001b[38;5;241;43m.\u001b[39;49m\u001b[43mplot_transformation\u001b[49m()\n\u001b[1;32m    251\u001b[0m     \u001b[38;5;28;01mfor\u001b[39;00m epoch \u001b[38;5;129;01min\u001b[39;00m \u001b[38;5;28mrange\u001b[39m(n):\n\u001b[1;32m    252\u001b[0m         loss_val, gradient_norm \u001b[38;5;241m=\u001b[39m \u001b[38;5;28mself\u001b[39m\u001b[38;5;241m.\u001b[39mtrain_step()\n",
      "\u001b[0;31mAttributeError\u001b[0m: 'nonmetricHMDS' object has no attribute 'plot_transformation'"
     ]
    }
   ],
   "source": [
    "# ▸ cell 1 – imports\n",
    "import numpy as np\n",
    "from synthetic_data import (\n",
    "    sample_hyperbolic_points,\n",
    "    build_distance_matrix,\n",
    "    add_correlated_noise,\n",
    ")\n",
    "from core_hmds import HMDS, nonmetricHMDS\n",
    "from plot_hmds import plot_loss, plot_sigmas, plot_transformation\n",
    "\n",
    "# ▸ cell 2 – generate synthetic data  (tweak dim / N / max_norm)\n",
    "pts        = sample_hyperbolic_points(n=100, dim=3, max_norm=0.85, rng=42)\n",
    "dmat_true  = build_distance_matrix(pts)\n",
    "\n",
    "# choose a noise profile:  linear, quadratic, or a custom lambda\n",
    "dmat_noisy = add_correlated_noise(dmat_true,\n",
    "                                  rule=\"linear\",   # or \"quadratic\" / callable\n",
    "                                  scale=0.05,\n",
    "                                  rng=42)\n",
    "\n",
    "# ▸ cell 3 – pick & train a model\n",
    "model = nonmetricHMDS(deltaij=dmat_noisy, D=3, Ns=8)\n",
    "model.train(n=30_000)\n",
    "\n",
    "# ▸ cell 4 – quick diagnostics\n",
    "plot_loss(model)\n",
    "plot_sigmas(model)          # σ_i if you have them\n",
    "plot_transformation(model)  # x ↦ f(x) for non‑metric fit\n"
   ]
  },
  {
   "cell_type": "code",
   "execution_count": null,
   "metadata": {},
   "outputs": [],
   "source": []
  }
 ],
 "metadata": {
  "kernelspec": {
   "display_name": "tf_env",
   "language": "python",
   "name": "python3"
  },
  "language_info": {
   "codemirror_mode": {
    "name": "ipython",
    "version": 3
   },
   "file_extension": ".py",
   "mimetype": "text/x-python",
   "name": "python",
   "nbconvert_exporter": "python",
   "pygments_lexer": "ipython3",
   "version": "3.10.13"
  }
 },
 "nbformat": 4,
 "nbformat_minor": 2
}
